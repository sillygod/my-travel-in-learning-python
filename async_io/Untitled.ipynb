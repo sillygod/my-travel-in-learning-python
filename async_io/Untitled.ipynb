{
 "cells": [
  {
   "cell_type": "markdown",
   "metadata": {},
   "source": [
    "# python async programming\n",
    "\n",
    "非同步編程在python中最近是越來越受歡迎，在python中有著許多libraries是用來做非同步的，其中之一是asyncio而且這也是讓python在async編程受歡迎的主因，在開始正題前，我們先來理解一些歷史緣由。\n",
    "\n",
    "在普遍的程式，執行順序都是一行一行執行，每次要繼續往下執行前，都會等著上一行完成，也就是俗稱的Sequential programming，那麼這樣的編程可能會遇到什麼問題呢？ 最大的問題就是如果上一行執行太久的話，我一定要等上一行執行完我才能夠繼續往下走嗎？ 最常見的情況就是api request，得到回傳結果，我才能繼續往下走，但是其實我下面接著要做的並不用等這個結果就可以執行了，所以就會耗費無意義的時間，為了解決這樣的事情，會使用thread。\n",
    "\n",
    "process 可以產生多個 thread，可以讓你的程式一次做很多事情，把它想成影分身，主體只有一個，但是你的分身卻可以同時幫你做其他事情。\n",
    "\n",
    "\n",
    "![pic](http://www.samu-san.com/wp-content/uploads/2015/05/1.jpg)\n",
    "\n",
    "上面這張圖，說明了什麼？ 帥！ 哈哈，其實是想表達，鳴人自己(process)，開出了很多分身(thread)，每個分身都做不同的事情\n",
    "\n",
    "\n",
    "方便吧！ 但是 thread 是有他的問題存在的，其中像是\n",
    "\n",
    " - race condition\n",
    " - dead lock\n",
    " - resource starvavtion\n",
    "\n",
    "先撇除上面會遇到的問題，thread還有著一個成本就是cpu的context switch，因為一顆cpu一次只能run一個thread，它實際上背後用很快的速度在進行thread的交換並執行，這就是所謂的context switch。那麼會有既可以達到多工的效果，又可以免除遇到上述的race condition等等問題的技術存在嗎？！ 答案是有的，那就是今天我們要講的主題 python async io，ayncio背後其實是用到[coroutine](https://en.wikipedia.org/wiki/Coroutine)的概念實作，從wiki上面來看，其實coroutine就是一種可以中斷及繼續執行函式呼叫的技術，直接從下面的例子來看！\n"
   ]
  },
  {
   "cell_type": "code",
   "execution_count": 4,
   "metadata": {},
   "outputs": [
    {
     "name": "stdout",
     "output_type": "stream",
     "text": [
      "0\n",
      "1\n",
      "2\n",
      "3\n",
      "4\n",
      "5\n",
      "=====\n",
      "in function 0\n",
      "come back to main\n",
      "in function 1\n",
      "in function 2\n"
     ]
    },
    {
     "data": {
      "text/plain": [
       "2"
      ]
     },
     "execution_count": 4,
     "metadata": {},
     "output_type": "execute_result"
    }
   ],
   "source": [
    "import time\n",
    "\n",
    "def n_hello():\n",
    "    for i in range(6):\n",
    "        print(i)\n",
    "    \n",
    "    \n",
    "def c_hello():\n",
    "    for i in range(4):\n",
    "        print('in function {}'.format(i))\n",
    "        yield i\n",
    "\n",
    "def infinit_loop():\n",
    "    num = 0\n",
    "    while True:\n",
    "        num += 1\n",
    "        print(num)\n",
    "        yield\n",
    "\n",
    "    \n",
    "n_hello()\n",
    "print(\"=====\")\n",
    "c = c_hello()\n",
    "next(c)\n",
    "print(\"come back to main\")\n",
    "next(c)\n",
    "next(c)"
   ]
  },
  {
   "cell_type": "markdown",
   "metadata": {},
   "source": [
    "上面就是python最基本支援coroutine的使用方式，第一個function `n_hello` 是一般的for loop版本的印出數字，另外一個function `c_hello` 是使用yield，藉此讓你看看兩者行為，明顯的感受出使用yield可以將程式的執行順序從subroutine轉回到main，繼續呼叫next又可以跳回去subroutine。\n",
    "\n",
    "有沒有覺得跟multi thread很像呢，基本上是行為是差不多的，但是coroutine是基於中斷函式，繼續執行其他函式的方式來達到多工，並不像multi thread，會有同時兩個thread執行同份程式碼的問題，進而造成前面所說的，race condition, dead lock.. 那些問題，前面使用鳴人的影分身來比喻multi thread，對於coroutine，我個人想要使用下面這張來比喻\n",
    "\n",
    "![wow](https://www.quizz.biz/uploads/quizz/257274/orig/1.jpg?1479662892)\n",
    "\n",
    "影子模仿術，鹿丸放出多條影子(coroutine)，藉由自己的大腦來控制所有人的行動。\n",
    "\n",
    "那麼接著再稍微深入看看yield的使用方式，前面使用方式是yield把值從function傳出去，那麼我們今天可以把值從外面傳到function裡面使用嗎？ 答案是可以的！ 以下看看例子\n"
   ]
  },
  {
   "cell_type": "code",
   "execution_count": 5,
   "metadata": {},
   "outputs": [
    {
     "name": "stdout",
     "output_type": "stream",
     "text": [
      "wow 5\n",
      "5\n"
     ]
    },
    {
     "ename": "StopIteration",
     "evalue": "5",
     "output_type": "error",
     "traceback": [
      "\u001b[0;31m---------------------------------------------------------------------------\u001b[0m",
      "\u001b[0;31mStopIteration\u001b[0m                             Traceback (most recent call last)",
      "\u001b[0;32m<ipython-input-5-777b6cd91ff2>\u001b[0m in \u001b[0;36m<module>\u001b[0;34m()\u001b[0m\n\u001b[1;32m     26\u001b[0m     \u001b[0mprint\u001b[0m\u001b[0;34m(\u001b[0m\u001b[0mreturn_value\u001b[0m\u001b[0;34m)\u001b[0m\u001b[0;34m\u001b[0m\u001b[0m\n\u001b[1;32m     27\u001b[0m     \u001b[0;31m# let you see exception\u001b[0m\u001b[0;34m\u001b[0m\u001b[0;34m\u001b[0m\u001b[0m\n\u001b[0;32m---> 28\u001b[0;31m     \u001b[0;32mraise\u001b[0m \u001b[0me\u001b[0m\u001b[0;34m\u001b[0m\u001b[0m\n\u001b[0m\u001b[1;32m     29\u001b[0m \u001b[0;34m\u001b[0m\u001b[0m\n",
      "\u001b[0;32m<ipython-input-5-777b6cd91ff2>\u001b[0m in \u001b[0;36m<module>\u001b[0;34m()\u001b[0m\n\u001b[1;32m     19\u001b[0m \u001b[0mnext\u001b[0m\u001b[0;34m(\u001b[0m\u001b[0mw\u001b[0m\u001b[0;34m)\u001b[0m\u001b[0;34m\u001b[0m\u001b[0m\n\u001b[1;32m     20\u001b[0m \u001b[0;32mtry\u001b[0m\u001b[0;34m:\u001b[0m\u001b[0;34m\u001b[0m\u001b[0m\n\u001b[0;32m---> 21\u001b[0;31m     \u001b[0mw\u001b[0m\u001b[0;34m.\u001b[0m\u001b[0msend\u001b[0m\u001b[0;34m(\u001b[0m\u001b[0;36m5\u001b[0m\u001b[0;34m)\u001b[0m\u001b[0;34m\u001b[0m\u001b[0m\n\u001b[0m\u001b[1;32m     22\u001b[0m \u001b[0;32mexcept\u001b[0m \u001b[0mStopIteration\u001b[0m \u001b[0;32mas\u001b[0m \u001b[0me\u001b[0m\u001b[0;34m:\u001b[0m\u001b[0;34m\u001b[0m\u001b[0m\n\u001b[1;32m     23\u001b[0m \u001b[0;34m\u001b[0m\u001b[0m\n",
      "\u001b[0;31mStopIteration\u001b[0m: 5"
     ]
    }
   ],
   "source": [
    "def g(x):\n",
    "    for i in range(x):\n",
    "        yield i\n",
    "    \n",
    "def will_cause_exception():\n",
    "    x = yield\n",
    "    print(\"wow {}\".format(x))\n",
    "    return x\n",
    "\n",
    "\n",
    "def infinite_send():\n",
    "    while True:\n",
    "        x = yield\n",
    "        print(\"send {}\".format(x))\n",
    "        \n",
    "\n",
    "\n",
    "w = will_cause_exception()\n",
    "next(w)\n",
    "try:\n",
    "    w.send(5)\n",
    "except StopIteration as e:\n",
    "    \n",
    "    return_value = e.value\n",
    "    # the function return value will be store in the exception's value\n",
    "    print(return_value)\n",
    "    # let you see exception\n",
    "    raise e\n",
    "\n"
   ]
  },
  {
   "cell_type": "markdown",
   "metadata": {},
   "source": [
    "根據上面的使用情境，你應該會覺得多多少少可以有更方便的用法才對，因此python的確在pep380有提出yield from這個語法糖"
   ]
  },
  {
   "cell_type": "code",
   "execution_count": 6,
   "metadata": {},
   "outputs": [
    {
     "name": "stdout",
     "output_type": "stream",
     "text": [
      "wow 10\n",
      "no exception 10\n",
      "[0, 1, 2, 3, 4, 4, 3, 2, 1, 0]\n"
     ]
    }
   ],
   "source": [
    "def test_yield_from():\n",
    "    w = will_cause_exception()\n",
    "    value = yield from w\n",
    "    print(\"no exception {}\".format(value))\n",
    "    yield\n",
    "    \n",
    "t = test_yield_from()\n",
    "next(t)\n",
    "t.send(10)\n",
    "\n",
    "\n",
    "\n",
    "def amazing_yeild_from(x):\n",
    "    yield from range(x)\n",
    "    yield from range(x-1, -1, -1)\n",
    "    \n",
    "print(list(amazing_yeild_from(5)))\n",
    "\n"
   ]
  },
  {
   "cell_type": "code",
   "execution_count": 8,
   "metadata": {},
   "outputs": [
    {
     "name": "stdout",
     "output_type": "stream",
     "text": [
      "http://www.python.org: 48866 bytes\n",
      "http://www.python.org: 48866 bytes\n",
      "http://www.python.org: 48866 bytes\n",
      "http://www.yandex.ru: 83153 bytes\n",
      "http://www.google.com: 11184 bytes\n",
      "CPU times: user 111 ms, sys: 15.9 ms, total: 127 ms\n",
      "Wall time: 3.98 s\n"
     ]
    }
   ],
   "source": [
    "%%time\n",
    "import asyncio\n",
    "import requests\n",
    "\n",
    "@asyncio.coroutine\n",
    "def aio_requests(url):\n",
    "    r = requests.get(url)\n",
    "    return r\n",
    "\n",
    "@asyncio.coroutine\n",
    "def aio_response(response):\n",
    "    data = response.text\n",
    "    return data\n",
    "\n",
    "urls = ['http://www.google.com', 'http://www.yandex.ru',\n",
    "        'http://www.python.org', 'http://www.python.org', 'http://www.python.org']\n",
    "\n",
    "@asyncio.coroutine\n",
    "def call_url(url):\n",
    "    response = yield from aio_requests(url)\n",
    "    data = yield from aio_response(response)\n",
    "    print('{}: {} bytes'.format(url, len(data)))\n",
    "    return data\n",
    "\n",
    "futures = [call_url(url) for url in urls]\n",
    "\n",
    "loop = asyncio.get_event_loop()\n",
    "loop.run_until_complete(asyncio.wait(futures))"
   ]
  },
  {
   "cell_type": "code",
   "execution_count": 9,
   "metadata": {},
   "outputs": [
    {
     "name": "stdout",
     "output_type": "stream",
     "text": [
      "http://www.google.com: 11144 bytes\n",
      "http://www.yandex.ru: 82882 bytes\n",
      "http://www.python.org: 48866 bytes\n",
      "http://www.python.org: 48866 bytes\n",
      "http://www.python.org: 48866 bytes\n",
      "CPU times: user 117 ms, sys: 17.2 ms, total: 134 ms\n",
      "Wall time: 4.02 s\n"
     ]
    }
   ],
   "source": [
    "%%time\n",
    "def syn_call_url(url):\n",
    "    r = requests.get(url)\n",
    "    data = r.text\n",
    "    print('{}: {} bytes'.format(url, len(data)))\n",
    "    \n",
    "for url in urls:\n",
    "    syn_call_url(url)\n",
    "    \n",
    "    "
   ]
  },
  {
   "cell_type": "code",
   "execution_count": null,
   "metadata": {},
   "outputs": [],
   "source": [
    "%%time\n",
    "async def async_requests(url):\n",
    "    r = requests.get(url)\n",
    "    return r\n",
    "\n",
    "async def async_response(response):\n",
    "    data = response.text\n",
    "    return data\n",
    "\n",
    "async def call_url(url):\n",
    "    response = await async_requests(url)\n",
    "    data = await async_response(response)\n",
    "    print('{}: {} bytes'.format(url, len(data)))\n",
    "    return data\n",
    "\n",
    "futures = [call_url(url) for url in urls]\n",
    "\n",
    "loop = asyncio.get_event_loop()\n",
    "loop.run_until_complete(asyncio.wait(futures))"
   ]
  },
  {
   "cell_type": "markdown",
   "metadata": {},
   "source": [
    "### syntax sugar \n",
    "\n",
    " - @asyncio.coroutine => async\n",
    " - yield from => await"
   ]
  },
  {
   "cell_type": "code",
   "execution_count": null,
   "metadata": {},
   "outputs": [],
   "source": []
  },
  {
   "cell_type": "markdown",
   "metadata": {},
   "source": [
    "# asyncio vs thread\n",
    "\n",
    "asyncio 神秘在哪？ 讓我們來瞧瞧\n",
    "\n",
    "https://www.reddit.com/r/learnpython/comments/5qwm5h/asyncio_for_dummies/dd432ke/\n",
    "\n",
    "golang 沒有 reentrant lock"
   ]
  },
  {
   "cell_type": "code",
   "execution_count": 5,
   "metadata": {},
   "outputs": [
    {
     "name": "stdout",
     "output_type": "stream",
     "text": [
      "CPU times: user 713 µs, sys: 1.22 ms, total: 1.94 ms\n",
      "Wall time: 1 s\n"
     ]
    }
   ],
   "source": [
    "%%time\n",
    "\n",
    "import time\n",
    "\n",
    "time.sleep(1)"
   ]
  },
  {
   "cell_type": "markdown",
   "metadata": {},
   "source": [
    "\n",
    "**wall time**才是真的process耗費的時間\n",
    "**cpu times**只是純粹程式在cpu裡面實際在跑的時間\n",
    "\n",
    "python async io ，是基於event loop來進行coroutine切換，"
   ]
  },
  {
   "cell_type": "markdown",
   "metadata": {},
   "source": [
    "# References\n",
    "\n",
    " - [python pep 380](https://docs.python.org/3/whatsnew/3.3.html#pep-380)\n",
    " - [asynchrounous](https://hackernoon.com/asynchronous-python-45df84b82434)\n"
   ]
  }
 ],
 "metadata": {
  "kernelspec": {
   "display_name": "Python 3",
   "language": "python",
   "name": "python3"
  },
  "language_info": {
   "codemirror_mode": {
    "name": "ipython",
    "version": 3
   },
   "file_extension": ".py",
   "mimetype": "text/x-python",
   "name": "python",
   "nbconvert_exporter": "python",
   "pygments_lexer": "ipython3",
   "version": "3.6.4"
  }
 },
 "nbformat": 4,
 "nbformat_minor": 2
}
